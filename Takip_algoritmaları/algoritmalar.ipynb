{
 "cells": [
  {
   "cell_type": "markdown",
   "metadata": {},
   "source": [
    "1) Boosting Tracker"
   ]
  },
  {
   "cell_type": "markdown",
   "metadata": {},
   "source": [
    "* Boosting, zayıf öğrenicileri ardışık olarak eğiterek güçlü bir sınıflandırıcı oluşturur.\n",
    "\n",
    "* Takiip algoritmalarında, her bir zayıf öğrenici, hataları düzeltmek için kullanılır ve performansı arttırır.\n",
    "\n",
    "* Random forest ın ağaçların toplu kararını yazdırması gibi düşünülebilir.\n",
    "\n",
    "* Hız önemli değil tespitin doğruluğu önemliyse kullanılabilir"
   ]
  },
  {
   "cell_type": "markdown",
   "metadata": {},
   "source": [
    "2. MIL(Multiple Instance Learning) Tracker"
   ]
  },
  {
   "cell_type": "markdown",
   "metadata": {},
   "source": [
    "* MIL, nesne takibinde birden fazla örnek üzerinden öğrenme yaparak doğruluğu arttırır,\n",
    "\n",
    "* Bu yöntem, özellikle objenin tam olarak tanımlanmadığı durumda faydalıdır.\n",
    "\n",
    "* Tespitin modellerde en fazla bulunduğu yeri tespit eder"
   ]
  },
  {
   "cell_type": "markdown",
   "metadata": {},
   "source": [
    "3. KCF(Kernelized Correlation Filters) Tracker\n",
    "\n",
    "* KCF,nesneleri takip etmek için kernel bazlı bir yöntem kullanır ve yüksek hızda işlem yapabilir\n",
    "\n",
    "* Özellikle küçük ve hızlı hareket eden nesneler için uygundur"
   ]
  },
  {
   "cell_type": "markdown",
   "metadata": {},
   "source": [
    "4. TLD(Tracking Learning Detection) Tracker\n",
    "\n",
    "* TLD, hem nesne takibi, hem öğrenme hem de tespit aşamalarını bir arada sunar\n",
    "\n",
    "* Bu yöntem, nesnenin kaybolduğu veya görünümünün değiştiği durumlarda adabtif öğrenme ile tekrar bulmayı sağlar."
   ]
  },
  {
   "cell_type": "markdown",
   "metadata": {},
   "source": [
    "5.MedianFlow Tracker\n",
    "\n",
    "* MedianFlow, bir nesnenin hareketini tahmin etmek için median akış algoritmasını kullanır ve hareketi stabil şekilde izler.\n",
    "\n",
    "* Özellikle nesnenin kısa süreli kaybolduğu durumlarda etkili olabilir."
   ]
  },
  {
   "cell_type": "markdown",
   "metadata": {},
   "source": [
    "6. MOSSE Tracker \n",
    "\n",
    "* MOSSE, nesne takibinde yüksek hız ve düşük hesaplama gereksinimleri sunan bir algoritmadır.\n",
    "\n",
    "* Özellikle \"düşük çözünürlüklü\" ve karmaşık arka planlı görüntülerde etkili olabilir."
   ]
  },
  {
   "cell_type": "markdown",
   "metadata": {},
   "source": [
    "7. CSRT Tracker \n",
    "\n",
    "* CSRT, nesne takibinde yüksek doğruluk ve robustness(sağlamllık veya dayanıklılık) sağlayan bir algoritmadır.\n",
    "\n",
    "* Görüntüdeki kanal ve mekansal bilgileri kullanarak daha güvenilir takip sonuçları üretir."
   ]
  }
 ],
 "metadata": {
  "kernelspec": {
   "display_name": "Python 3",
   "language": "python",
   "name": "python3"
  },
  "language_info": {
   "codemirror_mode": {
    "name": "ipython",
    "version": 3
   },
   "file_extension": ".py",
   "mimetype": "text/x-python",
   "name": "python",
   "nbconvert_exporter": "python",
   "pygments_lexer": "ipython3",
   "version": "3.12.4"
  }
 },
 "nbformat": 4,
 "nbformat_minor": 2
}
